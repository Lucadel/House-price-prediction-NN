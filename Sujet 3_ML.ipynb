{
 "cells": [
  {
   "cell_type": "markdown",
   "metadata": {},
   "source": [
    "## PREPROCESSING"
   ]
  },
  {
   "cell_type": "code",
   "execution_count": 140,
   "metadata": {},
   "outputs": [
    {
     "data": {
      "text/html": [
       "<div>\n",
       "<style scoped>\n",
       "    .dataframe tbody tr th:only-of-type {\n",
       "        vertical-align: middle;\n",
       "    }\n",
       "\n",
       "    .dataframe tbody tr th {\n",
       "        vertical-align: top;\n",
       "    }\n",
       "\n",
       "    .dataframe thead th {\n",
       "        text-align: right;\n",
       "    }\n",
       "</style>\n",
       "<table border=\"1\" class=\"dataframe\">\n",
       "  <thead>\n",
       "    <tr style=\"text-align: right;\">\n",
       "      <th></th>\n",
       "      <th>MSZoning_FV</th>\n",
       "      <th>MSZoning_RH</th>\n",
       "      <th>MSZoning_RL</th>\n",
       "      <th>MSZoning_RM</th>\n",
       "      <th>Alley_None</th>\n",
       "      <th>Alley_Pave</th>\n",
       "      <th>LotShape_IR2</th>\n",
       "      <th>LotShape_IR3</th>\n",
       "      <th>LotShape_Reg</th>\n",
       "      <th>LandContour_HLS</th>\n",
       "      <th>...</th>\n",
       "      <th>Total_Home_Quality</th>\n",
       "      <th>TotalSF</th>\n",
       "      <th>Total_Bathrooms</th>\n",
       "      <th>Total_porch_sf</th>\n",
       "      <th>haspool</th>\n",
       "      <th>has2ndfloor</th>\n",
       "      <th>hasgarage</th>\n",
       "      <th>hasbsmt</th>\n",
       "      <th>hasfireplace</th>\n",
       "      <th>SalePrices</th>\n",
       "    </tr>\n",
       "  </thead>\n",
       "  <tbody>\n",
       "    <tr>\n",
       "      <td>0</td>\n",
       "      <td>0</td>\n",
       "      <td>0</td>\n",
       "      <td>1</td>\n",
       "      <td>0</td>\n",
       "      <td>1</td>\n",
       "      <td>0</td>\n",
       "      <td>0</td>\n",
       "      <td>0</td>\n",
       "      <td>1</td>\n",
       "      <td>0</td>\n",
       "      <td>...</td>\n",
       "      <td>12</td>\n",
       "      <td>2566</td>\n",
       "      <td>3.5</td>\n",
       "      <td>4.127134</td>\n",
       "      <td>0.0</td>\n",
       "      <td>1</td>\n",
       "      <td>1</td>\n",
       "      <td>1</td>\n",
       "      <td>0</td>\n",
       "      <td>12.247699</td>\n",
       "    </tr>\n",
       "    <tr>\n",
       "      <td>1</td>\n",
       "      <td>0</td>\n",
       "      <td>0</td>\n",
       "      <td>1</td>\n",
       "      <td>0</td>\n",
       "      <td>1</td>\n",
       "      <td>0</td>\n",
       "      <td>0</td>\n",
       "      <td>0</td>\n",
       "      <td>1</td>\n",
       "      <td>0</td>\n",
       "      <td>...</td>\n",
       "      <td>14</td>\n",
       "      <td>2524</td>\n",
       "      <td>2.5</td>\n",
       "      <td>5.700444</td>\n",
       "      <td>0.0</td>\n",
       "      <td>0</td>\n",
       "      <td>1</td>\n",
       "      <td>1</td>\n",
       "      <td>1</td>\n",
       "      <td>12.109016</td>\n",
       "    </tr>\n",
       "    <tr>\n",
       "      <td>2</td>\n",
       "      <td>0</td>\n",
       "      <td>0</td>\n",
       "      <td>1</td>\n",
       "      <td>0</td>\n",
       "      <td>1</td>\n",
       "      <td>0</td>\n",
       "      <td>0</td>\n",
       "      <td>0</td>\n",
       "      <td>0</td>\n",
       "      <td>0</td>\n",
       "      <td>...</td>\n",
       "      <td>12</td>\n",
       "      <td>2706</td>\n",
       "      <td>3.5</td>\n",
       "      <td>3.761200</td>\n",
       "      <td>0.0</td>\n",
       "      <td>1</td>\n",
       "      <td>1</td>\n",
       "      <td>1</td>\n",
       "      <td>1</td>\n",
       "      <td>12.317171</td>\n",
       "    </tr>\n",
       "    <tr>\n",
       "      <td>3</td>\n",
       "      <td>0</td>\n",
       "      <td>0</td>\n",
       "      <td>1</td>\n",
       "      <td>0</td>\n",
       "      <td>1</td>\n",
       "      <td>0</td>\n",
       "      <td>0</td>\n",
       "      <td>0</td>\n",
       "      <td>0</td>\n",
       "      <td>0</td>\n",
       "      <td>...</td>\n",
       "      <td>12</td>\n",
       "      <td>2473</td>\n",
       "      <td>2.0</td>\n",
       "      <td>5.730100</td>\n",
       "      <td>0.0</td>\n",
       "      <td>1</td>\n",
       "      <td>1</td>\n",
       "      <td>1</td>\n",
       "      <td>1</td>\n",
       "      <td>11.849405</td>\n",
       "    </tr>\n",
       "    <tr>\n",
       "      <td>4</td>\n",
       "      <td>0</td>\n",
       "      <td>0</td>\n",
       "      <td>1</td>\n",
       "      <td>0</td>\n",
       "      <td>1</td>\n",
       "      <td>0</td>\n",
       "      <td>0</td>\n",
       "      <td>0</td>\n",
       "      <td>0</td>\n",
       "      <td>0</td>\n",
       "      <td>...</td>\n",
       "      <td>13</td>\n",
       "      <td>3343</td>\n",
       "      <td>3.5</td>\n",
       "      <td>5.624018</td>\n",
       "      <td>0.0</td>\n",
       "      <td>1</td>\n",
       "      <td>1</td>\n",
       "      <td>1</td>\n",
       "      <td>1</td>\n",
       "      <td>12.429220</td>\n",
       "    </tr>\n",
       "  </tbody>\n",
       "</table>\n",
       "<p>5 rows × 262 columns</p>\n",
       "</div>"
      ],
      "text/plain": [
       "   MSZoning_FV  MSZoning_RH  MSZoning_RL  MSZoning_RM  Alley_None  Alley_Pave  \\\n",
       "0            0            0            1            0           1           0   \n",
       "1            0            0            1            0           1           0   \n",
       "2            0            0            1            0           1           0   \n",
       "3            0            0            1            0           1           0   \n",
       "4            0            0            1            0           1           0   \n",
       "\n",
       "   LotShape_IR2  LotShape_IR3  LotShape_Reg  LandContour_HLS  ...  \\\n",
       "0             0             0             1                0  ...   \n",
       "1             0             0             1                0  ...   \n",
       "2             0             0             0                0  ...   \n",
       "3             0             0             0                0  ...   \n",
       "4             0             0             0                0  ...   \n",
       "\n",
       "   Total_Home_Quality  TotalSF  Total_Bathrooms  Total_porch_sf  haspool  \\\n",
       "0                  12     2566              3.5        4.127134      0.0   \n",
       "1                  14     2524              2.5        5.700444      0.0   \n",
       "2                  12     2706              3.5        3.761200      0.0   \n",
       "3                  12     2473              2.0        5.730100      0.0   \n",
       "4                  13     3343              3.5        5.624018      0.0   \n",
       "\n",
       "   has2ndfloor  hasgarage  hasbsmt  hasfireplace  SalePrices  \n",
       "0            1          1        1             0   12.247699  \n",
       "1            0          1        1             1   12.109016  \n",
       "2            1          1        1             1   12.317171  \n",
       "3            1          1        1             1   11.849405  \n",
       "4            1          1        1             1   12.429220  \n",
       "\n",
       "[5 rows x 262 columns]"
      ]
     },
     "execution_count": 140,
     "metadata": {},
     "output_type": "execute_result"
    }
   ],
   "source": [
    "import pandas as pd\n",
    "import numpy as np\n",
    "import matplotlib.pyplot as plt\n",
    "import seaborn as sns\n",
    "train=pd.read_csv(\"train2.csv\").drop([\"Unnamed: 0\"],axis=1)\n",
    "train[\"SalePrices\"]=train[\"SalePrice\"]\n",
    "train=train.drop([\"SalePrice\"],axis=1)\n",
    "test=pd.read_csv(\"test2.csv\").drop([\"Unnamed: 0\"],axis=1)\n",
    "train.head()"
   ]
  },
  {
   "cell_type": "code",
   "execution_count": null,
   "metadata": {},
   "outputs": [],
   "source": []
  },
  {
   "cell_type": "markdown",
   "metadata": {},
   "source": [
    "## MACHINE LEARNING : LASSO"
   ]
  },
  {
   "cell_type": "code",
   "execution_count": 2,
   "metadata": {},
   "outputs": [],
   "source": [
    "from sklearn.model_selection import train_test_split\n",
    "from sklearn.linear_model import LinearRegression,Ridge, Lasso, SGDRegressor\n",
    "from sklearn.model_selection import GridSearchCV\n",
    "from sklearn.metrics import r2_score, mean_squared_error, mean_absolute_error, mean_squared_log_error\n",
    "from sklearn.tree import DecisionTreeRegressor\n",
    "from sklearn.neighbors import KNeighborsRegressor\n",
    "\n",
    "\n",
    "y=train.iloc[:,-1]\n",
    "X=train.iloc[:,:-1]\n",
    "X_train, X_test, y_train, y_test = train_test_split(X, y, test_size=0.2, random_state=10)"
   ]
  },
  {
   "cell_type": "code",
   "execution_count": 3,
   "metadata": {},
   "outputs": [
    {
     "name": "stdout",
     "output_type": "stream",
     "text": [
      "R2_score_train  0.938\n",
      "R2_score_test  0.92\n",
      "MAE_train  11885.0\n",
      "MAE_test  13958.0 \n",
      "\n"
     ]
    }
   ],
   "source": [
    "np.random.seed(5)\n",
    "Model = Ridge(15)\n",
    "Model = Model.fit(X_train, y_train)\n",
    "\n",
    "ypred_train=Model.predict(X_train).reshape(-1,1)\n",
    "ypred_test=Model.predict(X_test).reshape(-1,1)\n",
    "r2_score_train=r2_score(y_train.values.reshape(-1,1), ypred_train)\n",
    "r2_score_test=r2_score(y_test.values.reshape(-1,1), ypred_test)\n",
    "\n",
    "print(\"R2_score_train \",round(r2_score_train,3))\n",
    "print(\"R2_score_test \",round(r2_score_test,3))\n",
    "print(\"MAE_train \",round(mean_absolute_error(np.expm1(y_train.values.reshape(-1,1)), np.expm1(ypred_train))))\n",
    "print(\"MAE_test \",round(mean_absolute_error(np.expm1(y_test.values.reshape(-1,1)), np.expm1(ypred_test))),\"\\n\")"
   ]
  },
  {
   "cell_type": "code",
   "execution_count": 4,
   "metadata": {
    "scrolled": true
   },
   "outputs": [
    {
     "data": {
      "text/plain": [
       "<matplotlib.legend.Legend at 0x18e78efce08>"
      ]
     },
     "execution_count": 4,
     "metadata": {},
     "output_type": "execute_result"
    },
    {
     "data": {
      "image/png": "[encoded data removed]",
      "text/plain": [
       "<Figure size 432x288 with 1 Axes>"
      ]
     },
     "metadata": {
      "needs_background": "light"
     },
     "output_type": "display_data"
    }
   ],
   "source": [
    "from sklearn.model_selection import learning_curve, ShuffleSplit\n",
    "cv= ShuffleSplit(n_splits=3, test_size=0.2, random_state=4)\n",
    "Model = Ridge(15)\n",
    "train_sizes, train_scores, test_scores=learning_curve(Model, X, y,cv=cv, train_sizes=np.linspace(.3, 1.0, 10), scoring=\"r2\")\n",
    "\n",
    "train_scores_mean = np.mean(train_scores, axis=1)\n",
    "train_scores_std = np.std(train_scores, axis=1)\n",
    "test_scores_mean = np.mean(test_scores, axis=1)\n",
    "test_scores_std = np.std(test_scores, axis=1)\n",
    "\n",
    "plt.grid()\n",
    "plt.title(\"Learning Curve: modèle Linéaire - métric=>r2_score\")\n",
    "plt.fill_between(train_sizes, train_scores_mean - train_scores_std,\n",
    "                 train_scores_mean + train_scores_std, alpha=0.1,\n",
    "                 color=\"r\")\n",
    "plt.fill_between(train_sizes, test_scores_mean - test_scores_std,\n",
    "                 test_scores_mean + test_scores_std, alpha=0.1, color=\"g\")\n",
    "plt.plot(train_sizes, train_scores_mean, 'o-', color=\"r\",\n",
    "         label=\"Training score\")\n",
    "plt.plot(train_sizes, test_scores_mean, 'o-', color=\"g\",\n",
    "         label=\"Cross-validation score\")\n",
    "plt.legend(loc=\"best\")\n"
   ]
  },
  {
   "cell_type": "markdown",
   "metadata": {},
   "source": [
    "Le modèle Lasso prédit le prix de vente des maisons avec une erreure confortable comprise entre +/- 18K€"
   ]
  },
  {
   "cell_type": "code",
   "execution_count": 5,
   "metadata": {},
   "outputs": [
    {
     "data": {
      "image/png": "[encoded data removed]",
      "text/plain": [
       "<Figure size 432x288 with 1 Axes>"
      ]
     },
     "metadata": {
      "needs_background": "light"
     },
     "output_type": "display_data"
    }
   ],
   "source": [
    "#PCA\n",
    "from sklearn.preprocessing import StandardScaler\n",
    "from sklearn.decomposition import PCA\n",
    "X=train.iloc[:,:-1]\n",
    "y=train.iloc[:,-1]\n",
    "\n",
    "X_normalized = StandardScaler().fit_transform(X) \n",
    "pca=PCA(100).fit(X_normalized)\n",
    "\n",
    "import matplotlib.pyplot as plt\n",
    "plt.bar(range(1, pca.n_components_ + 1),  pca.explained_variance_ratio_)\n",
    "plt.xlabel('Principal component #')\n",
    "plt.ylabel('Proportion of variance explained')\n",
    "plt.show()\n"
   ]
  },
  {
   "cell_type": "code",
   "execution_count": 6,
   "metadata": {},
   "outputs": [
    {
     "data": {
      "text/plain": [
       "<matplotlib.legend.Legend at 0x18e78ad0808>"
      ]
     },
     "execution_count": 6,
     "metadata": {},
     "output_type": "execute_result"
    },
    {
     "data": {
      "image/png": "[encoded data removed]",
      "text/plain": [
       "<Figure size 432x288 with 1 Axes>"
      ]
     },
     "metadata": {
      "needs_background": "light"
     },
     "output_type": "display_data"
    },
    {
     "data": {
      "image/png": "[encoded data removed]",
      "text/plain": [
       "<Figure size 432x288 with 1 Axes>"
      ]
     },
     "metadata": {
      "needs_background": "light"
     },
     "output_type": "display_data"
    }
   ],
   "source": [
    "rtrain=[]\n",
    "rtest=[]\n",
    "mtrain=[]\n",
    "mtest=[]\n",
    "for i in range(1,260):\n",
    "    X=train.iloc[:,:-1]\n",
    "    y=train.iloc[:,-1]\n",
    "\n",
    "    X_normalized = StandardScaler().fit_transform(X) \n",
    "    \n",
    "    X_pca=PCA(i).fit_transform(X_normalized)\n",
    "    \n",
    "    X_train, X_test, y_train, y_test = train_test_split(X_pca, y, test_size=0.2, random_state=777)\n",
    "\n",
    "    np.random.seed(5)\n",
    "    Model = Ridge(alpha=100,max_iter=10000)\n",
    "    Model = Model.fit(X_train, y_train)\n",
    "\n",
    "    rtrain.append(Model.score(X_train,y_train))\n",
    "    rtest.append(Model.score(X_test,y_test))\n",
    "    \n",
    "    ypred_train=Model.predict(X_train).reshape(-1,1)\n",
    "    ypred_test=Model.predict(X_test).reshape(-1,1)\n",
    "    mtrain.append(mean_absolute_error(y_train.values.reshape(-1,1), ypred_train))\n",
    "    mtest.append(mean_absolute_error(y_test.values.reshape(-1,1), ypred_test))\n",
    "    \n",
    "plt.figure()\n",
    "plt.plot(list(range(1,260)),rtrain, label=\"training score\")\n",
    "plt.plot(list(range(1,260)),rtest, label=\"test score\")\n",
    "plt.title(\"R2_score en fonction du nombres de composants principaux PCA\")\n",
    "plt.legend()\n",
    "\n",
    "plt.figure()\n",
    "plt.plot(list(range(1,260)),mtrain, label=\"training score\")\n",
    "plt.plot(list(range(1,260)),mtest, label=\"test score\")\n",
    "plt.title(\"Mean_absolute error en fonction du nombres de composants principaux PCA\")\n",
    "plt.legend()"
   ]
  },
  {
   "cell_type": "markdown",
   "metadata": {},
   "source": [
    "En conclusion, réduire le nombre de dimensions à 100 au lieu de 263 permet de viser un niveau d'erreur assez satisfaisant de +/-19K€."
   ]
  },
  {
   "cell_type": "markdown",
   "metadata": {},
   "source": [
    "## RESEAU DE NEURONES"
   ]
  },
  {
   "cell_type": "code",
   "execution_count": 1880,
   "metadata": {},
   "outputs": [],
   "source": [
    "#Deep Learning\n",
    "from sklearn.model_selection import train_test_split\n",
    "y=train.iloc[:,-1]\n",
    "X=train.iloc[:,:-1]\n",
    "X_normalized = StandardScaler().fit_transform(X) \n",
    "X=PCA(259).fit_transform(X_normalized)\n",
    "X_train, X_test, y_train, y_test = train_test_split(X, y, test_size=0.2, random_state=777)"
   ]
  },
  {
   "cell_type": "code",
   "execution_count": 1881,
   "metadata": {},
   "outputs": [],
   "source": [
    "from tensorflow.keras.models import Sequential\n",
    "from tensorflow.keras.layers import Dense, Dropout\n",
    "from keras import regularizers\n",
    "\n",
    "dim = X.shape[1]\n",
    "\n",
    "model = Sequential()\n",
    "model.add(Dense(100, activation=\"sigmoid\", input_dim=dim,kernel_initializer='normal',kernel_regularizer=regularizers.l2(0.01),activity_regularizer=regularizers.l1(0.01)))\n",
    "#,kernel_regularizer=regularizers.l2(0.01),activity_regularizer=regularizers.l1(0.01)))\n",
    "model.add(Dropout(0.15))\n",
    "\n",
    "#model.add(Dense(10, activation=\"sigmoid\"))\n",
    "#model.add(Dropout(0.15))\n",
    "model.add(Dense(1, activation=\"linear\"))\n",
    "model.compile(\"sgd\", \"mean_absolute_error\", metrics=[\"mae\"])"
   ]
  },
  {
   "cell_type": "code",
   "execution_count": 1882,
   "metadata": {},
   "outputs": [],
   "source": [
    "history=model.fit(np.array(X_train), np.array(y_train), batch_size=100, epochs=1000, validation_split=0.1, verbose=0)"
   ]
  },
  {
   "cell_type": "code",
   "execution_count": 1883,
   "metadata": {},
   "outputs": [],
   "source": [
    "#model.summary()\n",
    "#model.predict(np.array(X_test))"
   ]
  },
  {
   "cell_type": "code",
   "execution_count": 1884,
   "metadata": {},
   "outputs": [],
   "source": [
    "ypred_te=np.expm1(model.predict(np.array(X_test)).reshape(-1))\n",
    "y_test=np.expm1(y_test)\n",
    "ypred_tr=np.expm1(model.predict(np.array(X_train)).reshape(-1))\n",
    "y_train=np.expm1(y_train)"
   ]
  },
  {
   "cell_type": "code",
   "execution_count": 1885,
   "metadata": {},
   "outputs": [
    {
     "data": {
      "text/plain": [
       "0.9428575814616927"
      ]
     },
     "execution_count": 1885,
     "metadata": {},
     "output_type": "execute_result"
    }
   ],
   "source": [
    "from sklearn.metrics import r2_score, mean_squared_error, mean_absolute_error, mean_squared_log_error\n",
    "r2_score(y_train,ypred_tr)"
   ]
  },
  {
   "cell_type": "code",
   "execution_count": 1886,
   "metadata": {},
   "outputs": [
    {
     "data": {
      "text/plain": [
       "0.8981813344501574"
      ]
     },
     "execution_count": 1886,
     "metadata": {},
     "output_type": "execute_result"
    }
   ],
   "source": [
    "r2_score(y_test,ypred_te)"
   ]
  },
  {
   "cell_type": "code",
   "execution_count": 1887,
   "metadata": {},
   "outputs": [
    {
     "data": {
      "text/plain": [
       "12437.736469072152"
      ]
     },
     "execution_count": 1887,
     "metadata": {},
     "output_type": "execute_result"
    }
   ],
   "source": [
    "mean_absolute_error(y_train,ypred_tr)"
   ]
  },
  {
   "cell_type": "code",
   "execution_count": 1888,
   "metadata": {},
   "outputs": [
    {
     "data": {
      "text/plain": [
       "15277.628638698649"
      ]
     },
     "execution_count": 1888,
     "metadata": {},
     "output_type": "execute_result"
    }
   ],
   "source": [
    "mean_absolute_error(y_test,ypred_te)"
   ]
  },
  {
   "cell_type": "code",
   "execution_count": 1865,
   "metadata": {},
   "outputs": [
    {
     "name": "stdout",
     "output_type": "stream",
     "text": [
      "dict_keys(['loss', 'mae', 'val_loss', 'val_mae'])\n"
     ]
    },
    {
     "data": {
      "image/png": "[encoded data removed]",
      "text/plain": [
       "<Figure size 432x288 with 1 Axes>"
      ]
     },
     "metadata": {
      "needs_background": "light"
     },
     "output_type": "display_data"
    }
   ],
   "source": [
    "print(history.history.keys())\n",
    "# \"Loss\"\n",
    "plt.plot(np.expm1(history.history['loss']))\n",
    "plt.plot(np.expm1(history.history['val_loss']))\n",
    "plt.title('model loss')\n",
    "plt.ylabel('loss')\n",
    "plt.xlabel('epoch')\n",
    "plt.legend(['train', 'validation'], loc='upper left')\n",
    "plt.show()"
   ]
  },
  {
   "cell_type": "code",
   "execution_count": null,
   "metadata": {},
   "outputs": [],
   "source": []
  },
  {
   "cell_type": "code",
   "execution_count": null,
   "metadata": {},
   "outputs": [],
   "source": []
  }
 ],
 "metadata": {
  "kernelspec": {
   "display_name": "Python 3",
   "language": "python",
   "name": "python3"
  },
  "language_info": {
   "codemirror_mode": {
    "name": "ipython",
    "version": 3
   },
   "file_extension": ".py",
   "mimetype": "text/x-python",
   "name": "python",
   "nbconvert_exporter": "python",
   "pygments_lexer": "ipython3",
   "version": "3.7.4"
  }
 },
 "nbformat": 4,
 "nbformat_minor": 2
}
